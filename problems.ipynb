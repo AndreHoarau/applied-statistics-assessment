{
 "cells": [
  {
   "cell_type": "markdown",
   "id": "2671c519",
   "metadata": {},
   "source": [
    "# Problems Jupyter Notebook"
   ]
  },
  {
   "cell_type": "markdown",
   "id": "de4c5c1a",
   "metadata": {},
   "source": [
    "## Problem 1: Extending the Lady Tasting Tea\n",
    "![The Lady Tasting Tea](https://upload.wikimedia.org/wikipedia/en/2/2d/The_Lady_Tasting_Tea_-_David_Salsburg.jpg)"
   ]
  },
  {
   "cell_type": "markdown",
   "id": "fae25e54",
   "metadata": {},
   "source": [
    "## Problem 2: Normal Distribution"
   ]
  },
  {
   "cell_type": "markdown",
   "id": "eba7e2c7",
   "metadata": {},
   "source": [
    "## Problem 3: t-Tests"
   ]
  },
  {
   "cell_type": "markdown",
   "id": "6a6d923b",
   "metadata": {},
   "source": [
    "## Problem 4: ANOVA"
   ]
  },
  {
   "cell_type": "markdown",
   "id": "38a13367",
   "metadata": {},
   "source": [
    "### References:\n",
    "- A very helpful github guide on `markdown` used throughout for all markdown formatting [here](https://github.com/adam-p/markdown-here/wiki/markdown-cheatsheet)"
   ]
  },
  {
   "cell_type": "markdown",
   "id": "70501361",
   "metadata": {},
   "source": [
    "## END"
   ]
  }
 ],
 "metadata": {
  "language_info": {
   "name": "python"
  }
 },
 "nbformat": 4,
 "nbformat_minor": 5
}
