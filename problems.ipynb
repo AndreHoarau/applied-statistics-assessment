{
 "cells": [
  {
   "cell_type": "markdown",
   "id": "2671c519",
   "metadata": {},
   "source": [
    "# Problems Jupyter Notebook"
   ]
  },
  {
   "cell_type": "markdown",
   "id": "de4c5c1a",
   "metadata": {},
   "source": [
    "## Problem 1: Extending the Lady Tasting Tea\n",
    "\n",
    "<p align=\"center\">\n",
    "  <img src=\"https://encrypted-tbn0.gstatic.com/images?q=tbn:ANd9GcTD4bu4pFuN6_5dkXH5gfJ95SB-g4xMekkrog&s\" \n",
    "       alt=\"The Lady Tasting Tea Cartoon\" width=\"400\">\n",
    "</p>\n",
    "\n",
    "### Objective: \n",
    "_Let's extend the Lady Tasting Tea experiment as follows. The original experiment has 8 cups: 4 tea-first and 4 milk-first. Suppose we prepare 12 cups: 8 tea-first and 4 milk-first. A participant claims they can tell which was poured first._ More infomration on the experiment can be found [Here](https://en.wikipedia.org/wiki/Lady_tasting_tea)\n",
    "\n",
    "_Simulate this experiment using `numpy` by randomly shuffling the cups many times and calculating the probability of the participant correctly identifying all cups by chance. Compare your result with the original 8-cup experiment._\n",
    "\n",
    "_In your notebook, explain your simulation process clearly, report and interpret the estimated probability, and discuss whether, based on this probability, you would consider extending or relaxing the p-value threshold compared to the original design._"
   ]
  },
  {
   "cell_type": "code",
   "execution_count": 1,
   "id": "c3a8c4e0",
   "metadata": {},
   "outputs": [],
   "source": [
    "# Import libraries that will be used:\n",
    "import math\n",
    "import numpy as np\n",
    "import matplotlib.pyplot as plt"
   ]
  },
  {
   "cell_type": "markdown",
   "id": "14f08ab9",
   "metadata": {},
   "source": [
    "- [Math documentation including how `math.comb` works](https://docs.python.org/3/library/math.html)  \n",
    "- [Numpy documentation covering and including `np.random` `np.array`](https://numpy.org/doc/2.1/reference/module_structure.html)\n"
   ]
  },
  {
   "cell_type": "code",
   "execution_count": 2,
   "id": "32c446dc",
   "metadata": {},
   "outputs": [],
   "source": [
    "# Set up out our variables:\n",
    "# Total number of cups\n",
    "num_cups = 12\n",
    "# Number of tea first\n",
    "num_tea = 8\n",
    "# Number of milk first\n",
    "num_milk = 4"
   ]
  },
  {
   "cell_type": "markdown",
   "id": "356ede80",
   "metadata": {},
   "source": [
    "Using `math.comb(n, k)` to calculate combinations.\n",
    "Interstingly, as we have by guessing the number of milk first cups correctly, we automatically know the number of tea first cups correctly as well. Therefore we only need to calculate one side of the combination. It would not make sense to select the number of tea first cups, however we will explore the alternative to see if it makes a difference.\n"
   ]
  },
  {
   "cell_type": "code",
   "execution_count": 3,
   "id": "a786cf71",
   "metadata": {},
   "outputs": [
    {
     "data": {
      "text/plain": [
       "495"
      ]
     },
     "execution_count": 3,
     "metadata": {},
     "output_type": "execute_result"
    }
   ],
   "source": [
    "# math.comb(n, k) calculates the number of combinations of n items taken k at a time.\n",
    "ways = math.comb(num_cups, num_milk)\n",
    "ways\n"
   ]
  },
  {
   "cell_type": "markdown",
   "id": "49192c9a",
   "metadata": {},
   "source": [
    "Therefore above one can see that the total number of ways to correctly guess which cups had milk added first is 495. An increase from the original experiment from Fisher of 70.\n",
    "Using a labelling and placeholder system comparing to the original problem we see that the number of placeholders does not change just the number of labelled cups:\n",
    "\n",
    "Original problem (8 cups of tea 4 milk first 4 tea first)\n",
    "Cup labels: `1` `2` `3` `4` `5` `6` `7` `8`\n",
    "Placeholders: `_` `_` `_` `_`\n",
    "\n",
    "New problem (12 cups of tea 4 milk first 8 tea first)\n",
    "Cup labels: `1` `2` `3` `4` `5` `6` `7` `8` `9` `10` `11` `12`\n",
    "Placeholders: `_` `_` `_` `_`"
   ]
  },
  {
   "cell_type": "code",
   "execution_count": 4,
   "id": "f499549b",
   "metadata": {},
   "outputs": [
    {
     "data": {
      "text/plain": [
       "11880"
      ]
     },
     "execution_count": 4,
     "metadata": {},
     "output_type": "execute_result"
    }
   ],
   "source": [
    "# If the order of the cups mattered it would result in:\n",
    "order_ways = 12*11*10*9\n",
    "order_ways"
   ]
  },
  {
   "cell_type": "markdown",
   "id": "3061880c",
   "metadata": {},
   "source": [
    "We can see in the above that as we increase the number of cups if selecting from 12 cups in 4 places and the order is critical that there is a 1/11880 chance of it being correct. However in this situation we do not care about the order therefore we can disregard ordering."
   ]
  },
  {
   "cell_type": "code",
   "execution_count": 5,
   "id": "3f26777a",
   "metadata": {},
   "outputs": [
    {
     "data": {
      "text/plain": [
       "24"
      ]
     },
     "execution_count": 5,
     "metadata": {},
     "output_type": "execute_result"
    }
   ],
   "source": [
    "# Ways to shuffle our placeholders:\n",
    "shuffles = 4*3*2*1\n",
    "shuffles\n"
   ]
  },
  {
   "cell_type": "code",
   "execution_count": 6,
   "id": "3a11a0a7",
   "metadata": {},
   "outputs": [
    {
     "data": {
      "text/plain": [
       "495"
      ]
     },
     "execution_count": 6,
     "metadata": {},
     "output_type": "execute_result"
    }
   ],
   "source": [
    "# Therfore the number of combinations is:\n",
    "num_combs= order_ways // shuffles\n",
    "num_combs"
   ]
  },
  {
   "cell_type": "markdown",
   "id": "54411f07",
   "metadata": {},
   "source": [
    "Therefore one can see that the num_combs = ways"
   ]
  },
  {
   "cell_type": "markdown",
   "id": "3be8de07",
   "metadata": {},
   "source": [
    "What if we look at the alternative does it change the number of combinations?\n",
    "New problem (12 cups of tea 4 milk first 8 tea first)   \n",
    "Cup labels: `1` `2` `3` `4` `5` `6` `7` `8` `9` `10` `11` `12`  \n",
    "Placeholders: `_` `_` `_` `_` `_` `_` `_` `_`  \n"
   ]
  },
  {
   "cell_type": "code",
   "execution_count": 7,
   "id": "3bbaedd4",
   "metadata": {},
   "outputs": [
    {
     "data": {
      "text/plain": [
       "495"
      ]
     },
     "execution_count": 7,
     "metadata": {},
     "output_type": "execute_result"
    }
   ],
   "source": [
    "way_alt = math.comb(num_cups, num_tea)\n",
    "way_alt"
   ]
  },
  {
   "cell_type": "markdown",
   "id": "3fab9b50",
   "metadata": {},
   "source": [
    "It appears that regardless of whether we are looking to identify the tea first or the milk first the number of combinations excluding a need for order are the same.  \n",
    "For completeness lets do the maths using the increased number of placeholders as if the lady is identifying the tea first cups. "
   ]
  },
  {
   "cell_type": "code",
   "execution_count": 8,
   "id": "40531f58",
   "metadata": {},
   "outputs": [
    {
     "data": {
      "text/plain": [
       "19958400"
      ]
     },
     "execution_count": 8,
     "metadata": {},
     "output_type": "execute_result"
    }
   ],
   "source": [
    "# Using the same logic previously lets do calculations and compare\n",
    "order_ways_alt = 12*11*10*9*8*7*6*5\n",
    "order_ways_alt "
   ]
  },
  {
   "cell_type": "markdown",
   "id": "793b9929",
   "metadata": {},
   "source": [
    "A much higher number of order ways do to their being more placeholders. We also will have a higher number of shuffles that we can do."
   ]
  },
  {
   "cell_type": "code",
   "execution_count": 9,
   "id": "22f92873",
   "metadata": {},
   "outputs": [
    {
     "data": {
      "text/plain": [
       "40320"
      ]
     },
     "execution_count": 9,
     "metadata": {},
     "output_type": "execute_result"
    }
   ],
   "source": [
    "shuffles_alt = 8*7*6*5*4*3*2*1    \n",
    "shuffles_alt"
   ]
  },
  {
   "cell_type": "markdown",
   "id": "72913dfe",
   "metadata": {},
   "source": [
    "Also a larger number due to the larger number of places for the cups of tea to be place in. This should result in the the same number of combinations \n"
   ]
  },
  {
   "cell_type": "code",
   "execution_count": 10,
   "id": "7495660b",
   "metadata": {},
   "outputs": [
    {
     "data": {
      "text/plain": [
       "495"
      ]
     },
     "execution_count": 10,
     "metadata": {},
     "output_type": "execute_result"
    }
   ],
   "source": [
    "num_combs_alt = order_ways_alt // shuffles_alt\n",
    "num_combs_alt"
   ]
  },
  {
   "cell_type": "markdown",
   "id": "97912a04",
   "metadata": {},
   "source": [
    "The reason as to why selecting the milk first or tea first is irrelevant to the probability is due to the selection being complementary events. Successful selection of the milk first tea decides the tea first and vice versa. More can be read about it here [statistics how to article](https://www.statisticshowto.com/complementary-events/). "
   ]
  },
  {
   "cell_type": "markdown",
   "id": "0c8cf935",
   "metadata": {},
   "source": [
    "Now that we know there are 495 combinations that can happen across the 12 cups of tea lets use `Numpy` to perform some simulations look at probabilities and compare to the original problem."
   ]
  },
  {
   "cell_type": "code",
   "execution_count": 11,
   "id": "1b148469",
   "metadata": {},
   "outputs": [
    {
     "data": {
      "text/plain": [
       "(array([0, 1, 2, 3]),\n",
       " array([ 4,  5,  6,  7,  8,  9, 10, 11]),\n",
       " array([ 0,  1,  2,  3,  4,  5,  6,  7,  8,  9, 10, 11]))"
      ]
     },
     "execution_count": 11,
     "metadata": {},
     "output_type": "execute_result"
    }
   ],
   "source": [
    "# Make a numpy array of the 12 cups with cups 0 to 3 are the milk first cups and cups 4 to 11 are the tea first cups\n",
    "cups = np.arange(12)\n",
    "milk_first = cups[:4]\n",
    "tea_first = cups[4:]\n",
    "milk_first, tea_first, cups"
   ]
  },
  {
   "cell_type": "markdown",
   "id": "c42f22b2",
   "metadata": {},
   "source": [
    "Now that we have our cups in an array next we can use `np.random.shuffle(cups)` to simulate random selection."
   ]
  },
  {
   "cell_type": "code",
   "execution_count": 12,
   "id": "f16ad879",
   "metadata": {},
   "outputs": [
    {
     "data": {
      "text/plain": [
       "array([10,  3,  1,  8,  7, 11,  6,  5,  0,  9,  2,  4])"
      ]
     },
     "execution_count": 12,
     "metadata": {},
     "output_type": "execute_result"
    }
   ],
   "source": [
    "np.random.shuffle(cups)\n",
    "cups"
   ]
  },
  {
   "cell_type": "markdown",
   "id": "fb2de1cc",
   "metadata": {},
   "source": [
    "However as I used indexing to determine the milk first and tea first cups I need to come up with another way of identifying the cups."
   ]
  },
  {
   "cell_type": "code",
   "execution_count": 13,
   "id": "ae300b81",
   "metadata": {},
   "outputs": [
    {
     "data": {
      "text/plain": [
       "(array([0, 1, 2, 3]), array([ 4,  5,  6,  7,  8,  9, 10, 11]))"
      ]
     },
     "execution_count": 13,
     "metadata": {},
     "output_type": "execute_result"
    }
   ],
   "source": [
    "milk_first = cups[cups <= 3]\n",
    "tea_first = cups[cups > 3]\n",
    "milk_first.sort()\n",
    "tea_first.sort()\n",
    "milk_first, tea_first"
   ]
  },
  {
   "cell_type": "markdown",
   "id": "5dd8c922",
   "metadata": {},
   "source": [
    "We can now see that our cups if we imagine them in a line are no longer all 4 milk first followed by all 8 tea first cups. Next we can use `np.random.choice()` to simulate the lady selecting the 4 milk first tea cups. We have already seen it doesn't effect the combinations if she selects the tea first or milk first so for simplicity we will assume that she would select the milk first cups as there are less of them. "
   ]
  },
  {
   "cell_type": "code",
   "execution_count": 14,
   "id": "7346ecf1",
   "metadata": {},
   "outputs": [
    {
     "data": {
      "text/plain": [
       "array([1, 5, 7, 8])"
      ]
     },
     "execution_count": 14,
     "metadata": {},
     "output_type": "execute_result"
    }
   ],
   "source": [
    "# We are not replacing the cups so we set replace=False\n",
    "selection = np.random.choice(cups, size=4, replace=False)\n",
    "# Sort the selection to make it easier to read and to compare\n",
    "selection.sort()\n",
    "selection"
   ]
  },
  {
   "cell_type": "markdown",
   "id": "23b92a1d",
   "metadata": {},
   "source": [
    "This works for one execution of the experiment and we can keep running the above cell to see if we can get the ladies desired result of [0, 1, 2, 3]. Let's scale this to a full blown experiment and track the results. "
   ]
  },
  {
   "cell_type": "code",
   "execution_count": 15,
   "id": "ce6ec27a",
   "metadata": {},
   "outputs": [
    {
     "data": {
      "text/plain": [
       "0.003"
      ]
     },
     "execution_count": 15,
     "metadata": {},
     "output_type": "execute_result"
    }
   ],
   "source": [
    "# Running the expierment 100,000 times to see how often the lady selects all 4 milk first cups\n",
    "attempts = 1000\n",
    "successes = 0\n",
    "for _ in range(attempts):\n",
    "    selection = np.random.choice(cups, size=4, replace=False)\n",
    "    selection.sort()\n",
    "    if np.array_equal(selection, milk_first):\n",
    "        successes += 1\n",
    "success_rate = successes / attempts\n",
    "success_rate"
   ]
  },
  {
   "cell_type": "markdown",
   "id": "64c80eed",
   "metadata": {},
   "source": [
    "After simulating the above multiple times I keep returning a los success_rate of so lets modify it to get the experiment to run until we get a correct selection and record how many attempts that takes.\n"
   ]
  },
  {
   "cell_type": "code",
   "execution_count": 16,
   "id": "86db69ac",
   "metadata": {},
   "outputs": [
    {
     "data": {
      "text/plain": [
       "(array([10,  3,  1,  8,  7, 11,  6,  5,  0,  9,  2,  4]), array([0, 1, 2, 3]))"
      ]
     },
     "execution_count": 16,
     "metadata": {},
     "output_type": "execute_result"
    }
   ],
   "source": [
    "cups, milk_first"
   ]
  },
  {
   "cell_type": "code",
   "execution_count": 17,
   "id": "c629faa8",
   "metadata": {},
   "outputs": [
    {
     "data": {
      "text/plain": [
       "(285, 0.0035087719298245615)"
      ]
     },
     "execution_count": 17,
     "metadata": {},
     "output_type": "execute_result"
    }
   ],
   "source": [
    "attempts = 0\n",
    "while True:\n",
    "    attempts += 1\n",
    "    selection = np.random.choice(cups, size=4, replace=False)\n",
    "    selection.sort()\n",
    "    if np.array_equal(selection, milk_first):\n",
    "        break\n",
    "    attempts\n",
    "attempts_needed = attempts\n",
    "success_rate_experimental = 1/attempts_needed \n",
    "attempts_needed, success_rate_experimental"
   ]
  },
  {
   "cell_type": "markdown",
   "id": "a22eaeac",
   "metadata": {},
   "source": [
    "We can see that in the experiment of attempts and running the experiment until the lady selects the correct number of cups are both showing a success rate of approximately 0.002 or 0.2%. Remember we calculated that using `math.comb()` and got $1 \\div 495 \\approx 0.2 %$ thus showing that the experiment is quite close to what we would expect. \n"
   ]
  },
  {
   "cell_type": "code",
   "execution_count": 18,
   "id": "20246e31",
   "metadata": {},
   "outputs": [
    {
     "data": {
      "image/png": "[encoded data removed]",
      "text/plain": [
       "<Figure size 640x480 with 1 Axes>"
      ]
     },
     "metadata": {},
     "output_type": "display_data"
    }
   ],
   "source": [
    "x_values = ['Original 8 Cup Method', '12 Cup Simulation']\n",
    "y_vlaues = [1/70, 1/495]\n",
    "plt.bar(x_values, y_vlaues)\n",
    "plt.ylabel('Probability of selecting the correct cups by luck')\n",
    "plt.show()"
   ]
  },
  {
   "cell_type": "markdown",
   "id": "cc41192b",
   "metadata": {},
   "source": [
    "We can observe that increasing the cups from 8 to 12 greatly reduces the probability of being able to correctly guess the outcome. \n",
    "The difference is approximately $0.14-0.002 \\approx 0.012$ or $\\frac{0.012}{0.14} = 0.857$ $\\approx$ 86%  reduction in probability."
   ]
  },
  {
   "cell_type": "markdown",
   "id": "34338beb",
   "metadata": {},
   "source": [
    "Looking at all the probabilities of selecting each cup correctly by chance in both the 8 cup and 12 cup scenario."
   ]
  },
  {
   "cell_type": "code",
   "execution_count": 21,
   "id": "6ca3b3ae",
   "metadata": {},
   "outputs": [
    {
     "ename": "AttributeError",
     "evalue": "'list' object has no attribute 'patches'",
     "output_type": "error",
     "traceback": [
      "\u001b[31m---------------------------------------------------------------------------\u001b[39m",
      "\u001b[31mAttributeError\u001b[39m                            Traceback (most recent call last)",
      "\u001b[36mCell\u001b[39m\u001b[36m \u001b[39m\u001b[32mIn[21]\u001b[39m\u001b[32m, line 19\u001b[39m\n\u001b[32m     17\u001b[39m ax.set_ylabel(\u001b[33m'\u001b[39m\u001b[33mProbability of Correct Selection\u001b[39m\u001b[33m'\u001b[39m)\n\u001b[32m     18\u001b[39m ax.legend()\n\u001b[32m---> \u001b[39m\u001b[32m19\u001b[39m \u001b[43max\u001b[49m\u001b[43m.\u001b[49m\u001b[43mbar_label\u001b[49m\u001b[43m(\u001b[49m\u001b[43my_original\u001b[49m\u001b[43m,\u001b[49m\u001b[43mlabel_type\u001b[49m\u001b[43m=\u001b[49m\u001b[43m \u001b[49m\u001b[33;43m'\u001b[39;49m\u001b[33;43mcenter\u001b[39;49m\u001b[33;43m'\u001b[39;49m\u001b[43m)\u001b[49m\n\u001b[32m     20\u001b[39m plt.show()\n\u001b[32m     21\u001b[39m original_bar_chart = plt.bar(\u001b[38;5;28mrange\u001b[39m(\u001b[32m5\u001b[39m), y_original, label=\u001b[33m'\u001b[39m\u001b[33m8 Cups\u001b[39m\u001b[33m'\u001b[39m)\n",
      "\u001b[36mFile \u001b[39m\u001b[32m~/.local/lib/python3.12/site-packages/matplotlib/axes/_axes.py:2907\u001b[39m, in \u001b[36mAxes.bar_label\u001b[39m\u001b[34m(self, container, labels, fmt, label_type, padding, **kwargs)\u001b[39m\n\u001b[32m   2903\u001b[39m     \u001b[38;5;28;01mreturn\u001b[39;00m \u001b[32m1\u001b[39m \u001b[38;5;28;01mif\u001b[39;00m x >= \u001b[32m0\u001b[39m \u001b[38;5;28;01melse\u001b[39;00m -\u001b[32m1\u001b[39m\n\u001b[32m   2905\u001b[39m _api.check_in_list([\u001b[33m'\u001b[39m\u001b[33medge\u001b[39m\u001b[33m'\u001b[39m, \u001b[33m'\u001b[39m\u001b[33mcenter\u001b[39m\u001b[33m'\u001b[39m], label_type=label_type)\n\u001b[32m-> \u001b[39m\u001b[32m2907\u001b[39m bars = \u001b[43mcontainer\u001b[49m\u001b[43m.\u001b[49m\u001b[43mpatches\u001b[49m\n\u001b[32m   2908\u001b[39m errorbar = container.errorbar\n\u001b[32m   2909\u001b[39m datavalues = container.datavalues\n",
      "\u001b[31mAttributeError\u001b[39m: 'list' object has no attribute 'patches'"
     ]
    },
    {
     "data": {
      "image/png": "[encoded data removed]",
      "text/plain": [
       "<Figure size 640x480 with 1 Axes>"
      ]
     },
     "metadata": {},
     "output_type": "display_data"
    }
   ],
   "source": [
    "original_cups = 8\n",
    "extended_cups = 12\n",
    "cup_count = 0\n",
    "y_original = []\n",
    "y_extended = []\n",
    "while cup_count <= 4:\n",
    "    ways_original = 1/math.comb(original_cups, cup_count)\n",
    "    ways_extended = 1/math.comb(extended_cups, cup_count)\n",
    "    y_original.append(ways_original)\n",
    "    y_extended.append(ways_extended)\n",
    "    cup_count += 1\n",
    "\n",
    "fig,ax = plt.subplots()\n",
    "ax.bar(range(5), y_original, label='8 Cups')\n",
    "ax.bar(range(5), y_extended, label='12 Cups')\n",
    "ax.set_xlabel('Number of Cups Selected')\n",
    "ax.set_ylabel('Probability of Correct Selection')\n",
    "ax.legend()\n",
    "ax.bar_label(y_original,label_type= 'center')\n",
    "plt.show()\n",
    "original_bar_chart = plt.bar(range(5), y_original, label='8 Cups')\n",
    "extended_bar_chart = plt.bar(range(5), y_extended, label='12 Cups')\n",
    "plt.xlabel('Number of Cups Selected')\n",
    "plt.ylabel('Probability of Correct Selection')\n",
    "plt.legend()\n",
    "plt.show()\n",
    "\n",
    "#Andre check this link to see about making the graph labelled :https://matplotlib.org/stable/gallery/lines_bars_and_markers/bar_label_demo.html\n"
   ]
  },
  {
   "cell_type": "markdown",
   "id": "01cdac85",
   "metadata": {},
   "source": []
  },
  {
   "cell_type": "markdown",
   "id": "fae25e54",
   "metadata": {},
   "source": [
    "## Problem 2: Normal Distribution\n",
    "<p align=\"center\">\n",
    "  <img src=\"https://i.ytimg.com/vi/MqBR7RYFSas/maxresdefault.jpg\" \n",
    "       alt=\"The Lady Tasting Tea Cartoon\" width=\"800\">\n",
    "</p>\n",
    "\n",
    "### Objective: \n",
    "_Generate 100,000 samples of size 10 from the standard normal distribution. For each sample, compute the standard deviation with `ddof=1` (sample SD) and with `ddof=0` (population SD). Plot histograms of both sets of values on the same axes with transparency. Describe the differences you see. Explain how you expect these differences to change if the sample size is increased._"
   ]
  },
  {
   "cell_type": "markdown",
   "id": "6cc6f30f",
   "metadata": {},
   "source": []
  },
  {
   "cell_type": "markdown",
   "metadata": {},
   "source": []
  },
  {
   "cell_type": "markdown",
   "id": "eba7e2c7",
   "metadata": {},
   "source": [
    "## Problem 3: t-Tests\n",
    "### Objective: \n",
    "_A type II error occurs when a test fails to reject the null hypothesis even though it is false.\n",
    "For each mean difference $d = 0, 0.1, 0.2, \\dots, 1.0$, repeat the following simulation 1,000 times_\n",
    "\n",
    "_1. Draw two samples of size 100, one from the standard normal distribution and one from the normal distribution with mean $d$ and standard deviation 1._\n",
    "\n",
    "_2. Run an independent samples t-test on the two samples, rejecting the null hypothesis if the p-value is less than 0.05._ \n",
    "\n",
    "_3. Record the proportion of times the null hypothesis is not rejected._\n",
    "\n",
    "_Plot this proportion against $d$, and explain how the type II error rate changes as the difference in means increases._"
   ]
  },
  {
   "cell_type": "markdown",
   "id": "6a6d923b",
   "metadata": {},
   "source": [
    "## Problem 4: ANOVA\n",
    "### Objective: \n",
    "_Generate three independent samples, each of size 30, from normal distributions with means 0, 0.5, and 1, each with standard deviation 1._\n",
    "\n",
    "_1. Perform a one-way ANOVA to test whether all three means are equal._  \n",
    "_2. Perform three independent two-sample t-tests: samples 1 vs 2, 1 vs 3, and 2 vs 3._  \n",
    "_3. Compare the conclusions._  \n",
    "\n",
    "_Write a short note on why ANOVA is preferred over running several t-tests._"
   ]
  },
  {
   "cell_type": "markdown",
   "id": "38a13367",
   "metadata": {},
   "source": [
    "### References:\n",
    "- A very helpful github guide on `markdown` used throughout for all markdown formatting [here](https://github.com/adam-p/markdown-here/wiki/markdown-cheatsheet)"
   ]
  },
  {
   "cell_type": "markdown",
   "id": "70501361",
   "metadata": {},
   "source": [
    "## END"
   ]
  }
 ],
 "metadata": {
  "kernelspec": {
   "display_name": "Python 3",
   "language": "python",
   "name": "python3"
  },
  "language_info": {
   "codemirror_mode": {
    "name": "ipython",
    "version": 3
   },
   "file_extension": ".py",
   "mimetype": "text/x-python",
   "name": "python",
   "nbconvert_exporter": "python",
   "pygments_lexer": "ipython3",
   "version": "3.12.1"
  }
 },
 "nbformat": 4,
 "nbformat_minor": 5
}
