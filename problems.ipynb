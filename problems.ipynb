{
 "cells": [
  {
   "cell_type": "markdown",
   "id": "2671c519",
   "metadata": {},
   "source": [
    "# Problems Jupyter Notebook"
   ]
  },
  {
   "cell_type": "markdown",
   "id": "de4c5c1a",
   "metadata": {},
   "source": [
    "## Problem 1: Extending the Lady Tasting Tea\n",
    "![The Lady Tasting Tea](https://upload.wikimedia.org/wikipedia/en/2/2d/The_Lady_Tasting_Tea_-_David_Salsburg.jpg)\n",
    "\n",
    "### Objective: \n",
    "_Let's extend the Lady Tasting Tea experiment as follows. The original experiment has 8 cups: 4 tea-first and 4 milk-first. Suppose we prepare 12 cups: 8 tea-first and 4 milk-first. A participant claims they can tell which was poured first._\n",
    "\n",
    "_Simulate this experiment using `numpy` by randomly shuffling the cups many times and calculating the probability of the participant correctly identifying all cups by chance. Compare your result with the original 8-cup experiment._\n",
    "\n",
    "_In your notebook, explain your simulation process clearly, report and interpret the estimated probability, and discuss whether, based on this probability, you would consider extending or relaxing the p-value threshold compared to the original design._"
   ]
  },
  {
   "cell_type": "code",
   "execution_count": 67,
   "id": "c3a8c4e0",
   "metadata": {},
   "outputs": [],
   "source": [
    "# Import libraries that will be used:\n",
    "import math\n",
    "import itertools\n",
    "import numpy as np\n",
    "import matplotlib.pyplot as plt"
   ]
  },
  {
   "cell_type": "code",
   "execution_count": 68,
   "id": "32c446dc",
   "metadata": {},
   "outputs": [],
   "source": [
    "# Set up out our variables:\n",
    "# Total number of cups\n",
    "num_cups = 12\n",
    "# Number of tea first\n",
    "num_tea = 8\n",
    "# Number of milk first\n",
    "num_milk = 4"
   ]
  },
  {
   "cell_type": "markdown",
   "id": "356ede80",
   "metadata": {},
   "source": [
    "Using math.comb(n, k) to calculate combinations.\n",
    "Interstingly, as we have by guessing the number of milk first cups correctly, we automatically know the number of tea first cups correctly as well. Therefore we only need to calculate one side of the combination. It would not make sense to select the number of tea first cups, however we will explore the alternative to see if it makes a difference.\n"
   ]
  },
  {
   "cell_type": "code",
   "execution_count": 69,
   "id": "a786cf71",
   "metadata": {},
   "outputs": [
    {
     "data": {
      "text/plain": [
       "495"
      ]
     },
     "execution_count": 69,
     "metadata": {},
     "output_type": "execute_result"
    }
   ],
   "source": [
    "# math.comb(n, k) calculates the number of combinations of n items taken k at a time.\n",
    "ways = math.comb(num_cups, num_milk)\n",
    "ways\n"
   ]
  },
  {
   "cell_type": "markdown",
   "id": "49192c9a",
   "metadata": {},
   "source": [
    "Therefore above one can see that the total number of ways to correctly guess which cups had milk added first is 495. An increase from the original experiment from Fisher of 70.\n",
    "Using a labelling and placeholder system comparing to the original problem we see that the number of placeholders does not change just the number of labelled cups:\n",
    "\n",
    "Original problem (8 cups of tea 4 milk first 4 tea first)\n",
    "Cup labels: `1` `2` `3` `4` `5` `6` `7` `8`\n",
    "Placeholders: `_` `_` `_` `_`\n",
    "\n",
    "New problem (12 cups of tea 4 milk first 8 tea first)\n",
    "Cup labels: `1` `2` `3` `4` `5` `6` `7` `8` `9` `10` `11` `12`\n",
    "Placeholders: `_` `_` `_` `_`"
   ]
  },
  {
   "cell_type": "code",
   "execution_count": 70,
   "id": "f499549b",
   "metadata": {},
   "outputs": [
    {
     "data": {
      "text/plain": [
       "11880"
      ]
     },
     "execution_count": 70,
     "metadata": {},
     "output_type": "execute_result"
    }
   ],
   "source": [
    "# If the order of the cups mattered it would result in:\n",
    "order_ways = 12*11*10*9\n",
    "order_ways"
   ]
  },
  {
   "cell_type": "markdown",
   "id": "3061880c",
   "metadata": {},
   "source": [
    "We can see in the above that as we increase the number of cups if selecting from 12 cups in 4 places and the order is critical that there is a 1/11880 chance of it being correct. However in this situation we do not care about the order therefore we can disregard ordering."
   ]
  },
  {
   "cell_type": "code",
   "execution_count": 71,
   "id": "3f26777a",
   "metadata": {},
   "outputs": [
    {
     "data": {
      "text/plain": [
       "24"
      ]
     },
     "execution_count": 71,
     "metadata": {},
     "output_type": "execute_result"
    }
   ],
   "source": [
    "# Ways to shuffle our placeholders:\n",
    "shuffles = 4*3*2*1\n",
    "shuffles\n"
   ]
  },
  {
   "cell_type": "code",
   "execution_count": 72,
   "id": "3a11a0a7",
   "metadata": {},
   "outputs": [
    {
     "data": {
      "text/plain": [
       "495"
      ]
     },
     "execution_count": 72,
     "metadata": {},
     "output_type": "execute_result"
    }
   ],
   "source": [
    "# Therfore the number of combinations is:\n",
    "num_combs= order_ways // shuffles\n",
    "num_combs"
   ]
  },
  {
   "cell_type": "markdown",
   "id": "54411f07",
   "metadata": {},
   "source": [
    "Therefore one can see that the num_combs = ways"
   ]
  },
  {
   "cell_type": "markdown",
   "id": "3be8de07",
   "metadata": {},
   "source": [
    "What if we look at the alternative does it change the number of combinations?\n",
    "New problem (12 cups of tea 4 milk first 8 tea first)   \n",
    "Cup labels: `1` `2` `3` `4` `5` `6` `7` `8` `9` `10` `11` `12`  \n",
    "Placeholders: `_` `_` `_` `_` `_` `_` `_` `_`  \n"
   ]
  },
  {
   "cell_type": "code",
   "execution_count": 73,
   "id": "3bbaedd4",
   "metadata": {},
   "outputs": [
    {
     "data": {
      "text/plain": [
       "495"
      ]
     },
     "execution_count": 73,
     "metadata": {},
     "output_type": "execute_result"
    }
   ],
   "source": [
    "way_alt = math.comb(num_cups, num_tea)\n",
    "way_alt"
   ]
  },
  {
   "cell_type": "markdown",
   "id": "3fab9b50",
   "metadata": {},
   "source": [
    "It appears that regardless of whether we are looking to identify the tea first or the milk first the number of combinations excluding a need for order are the same.  \n",
    "For completeness lets do the maths using the increased number of placeholders as if the lady is identifying the tea first cups. "
   ]
  },
  {
   "cell_type": "code",
   "execution_count": 74,
   "id": "40531f58",
   "metadata": {},
   "outputs": [
    {
     "data": {
      "text/plain": [
       "19958400"
      ]
     },
     "execution_count": 74,
     "metadata": {},
     "output_type": "execute_result"
    }
   ],
   "source": [
    "# Using the same logic previously lets do calculations and compare\n",
    "order_ways_alt = 12*11*10*9*8*7*6*5\n",
    "order_ways_alt "
   ]
  },
  {
   "cell_type": "markdown",
   "id": "793b9929",
   "metadata": {},
   "source": [
    "A much higher number of order ways do to their being more placeholders. We also will have a higher number of shuffles that we can do."
   ]
  },
  {
   "cell_type": "code",
   "execution_count": 75,
   "id": "22f92873",
   "metadata": {},
   "outputs": [
    {
     "data": {
      "text/plain": [
       "40320"
      ]
     },
     "execution_count": 75,
     "metadata": {},
     "output_type": "execute_result"
    }
   ],
   "source": [
    "shuffles_alt = 8*7*6*5*4*3*2*1    \n",
    "shuffles_alt"
   ]
  },
  {
   "cell_type": "markdown",
   "id": "72913dfe",
   "metadata": {},
   "source": [
    "Also a larger number due to the larger number of places for the cups of tea to be place in. This should result in the the same number of combinations \n"
   ]
  },
  {
   "cell_type": "code",
   "execution_count": 76,
   "id": "7495660b",
   "metadata": {},
   "outputs": [
    {
     "data": {
      "text/plain": [
       "495"
      ]
     },
     "execution_count": 76,
     "metadata": {},
     "output_type": "execute_result"
    }
   ],
   "source": [
    "num_combs_alt = order_ways_alt // shuffles_alt\n",
    "num_combs_alt"
   ]
  },
  {
   "cell_type": "markdown",
   "id": "0c8cf935",
   "metadata": {},
   "source": [
    "Now that we know there are 495 combinations that can happen across the 12 cups of tea lets use `Numpy` to perform some simulations look at probabilities and compare to the original problem."
   ]
  },
  {
   "cell_type": "code",
   "execution_count": 77,
   "id": "1b148469",
   "metadata": {},
   "outputs": [
    {
     "data": {
      "text/plain": [
       "(array([0, 1, 2, 3]),\n",
       " array([ 4,  5,  6,  7,  8,  9, 10, 11]),\n",
       " array([ 0,  1,  2,  3,  4,  5,  6,  7,  8,  9, 10, 11]))"
      ]
     },
     "execution_count": 77,
     "metadata": {},
     "output_type": "execute_result"
    }
   ],
   "source": [
    "# Make a numpy array of the 12 cups with cups 0 to 3 are the milk first cups and cups 4 to 11 are the tea first cups\n",
    "cups = np.arange(12)\n",
    "milk_first = cups[:4]\n",
    "tea_first = cups[4:]\n",
    "milk_first, tea_first, cups"
   ]
  },
  {
   "cell_type": "markdown",
   "id": "c42f22b2",
   "metadata": {},
   "source": [
    "Now that we have our cups in an array next we can use `np.random.shuffle(cups)` to simulate random selection."
   ]
  },
  {
   "cell_type": "code",
   "execution_count": 78,
   "id": "f16ad879",
   "metadata": {},
   "outputs": [
    {
     "data": {
      "text/plain": [
       "array([10,  9,  8,  0,  5,  2,  4,  1,  7, 11,  6,  3])"
      ]
     },
     "execution_count": 78,
     "metadata": {},
     "output_type": "execute_result"
    }
   ],
   "source": [
    "np.random.shuffle(cups)\n",
    "cups"
   ]
  },
  {
   "cell_type": "markdown",
   "id": "fb2de1cc",
   "metadata": {},
   "source": [
    "However as I used indexing to determine the milk first and tea first cups I need to come up with another way of identifying the cups."
   ]
  },
  {
   "cell_type": "code",
   "execution_count": 79,
   "id": "ae300b81",
   "metadata": {},
   "outputs": [
    {
     "data": {
      "text/plain": [
       "(array([0, 1, 2, 3]), array([ 4,  5,  6,  7,  8,  9, 10, 11]))"
      ]
     },
     "execution_count": 79,
     "metadata": {},
     "output_type": "execute_result"
    }
   ],
   "source": [
    "milk_first = cups[cups <= 3]\n",
    "tea_first = cups[cups > 3]\n",
    "milk_first.sort()\n",
    "tea_first.sort()\n",
    "milk_first, tea_first"
   ]
  },
  {
   "cell_type": "markdown",
   "id": "5dd8c922",
   "metadata": {},
   "source": [
    "We can now see that our cups if we imagine them in a line are no longer all 4 milk first followed by all 8 tea first cups. Next we can use `np.random.choice()` to simulate the lady selecting the 4 milk first tea cups. We have already seen it doesn't effect the combinations if she selects the tea first or milk first so for simplicity we will assume that she would select the milk first cups as there are less of them. "
   ]
  },
  {
   "cell_type": "code",
   "execution_count": null,
   "id": "7346ecf1",
   "metadata": {},
   "outputs": [
    {
     "data": {
      "text/plain": [
       "array([ 4,  5, 10, 11])"
      ]
     },
     "execution_count": 80,
     "metadata": {},
     "output_type": "execute_result"
    }
   ],
   "source": [
    "# We are not replacing the cups so we set replace=False\n",
    "selection = np.random.choice(cups, size=4, replace=False)\n",
    "# Sort the selection to make it easier to read and to compare\n",
    "selection.sort()\n",
    "selection"
   ]
  },
  {
   "cell_type": "markdown",
   "id": "23b92a1d",
   "metadata": {},
   "source": [
    "This works for one execution of the experiment and we can keep running the above cell to see if we can get the ladies desired result of [0, 1, 2, 3]. Let's scale this to a full blown experiment and track the results. "
   ]
  },
  {
   "cell_type": "code",
   "execution_count": 81,
   "id": "ce6ec27a",
   "metadata": {},
   "outputs": [
    {
     "data": {
      "text/plain": [
       "0.00206"
      ]
     },
     "execution_count": 81,
     "metadata": {},
     "output_type": "execute_result"
    }
   ],
   "source": [
    "# Running the expierment 100,000 times to see how often the lady selects all 4 milk first cups\n",
    "attempts = 100000\n",
    "successes = 0\n",
    "for _ in range(attempts):\n",
    "    selection = np.random.choice(cups, size=4, replace=False)\n",
    "    selection.sort()\n",
    "    if np.array_equal(selection, milk_first):\n",
    "        successes += 1\n",
    "success_rate = successes / attempts\n",
    "success_rate"
   ]
  },
  {
   "cell_type": "markdown",
   "id": "64c80eed",
   "metadata": {},
   "source": [
    "After simulating the above multiple times I keep returning a success_rate of 0.0 so lets modify it to get the experiment to run until we get a correct selection and record how many attempts that takes.\n"
   ]
  },
  {
   "cell_type": "code",
   "execution_count": 82,
   "id": "86db69ac",
   "metadata": {},
   "outputs": [
    {
     "data": {
      "text/plain": [
       "(array([10,  9,  8,  0,  5,  2,  4,  1,  7, 11,  6,  3]), array([0, 1, 2, 3]))"
      ]
     },
     "execution_count": 82,
     "metadata": {},
     "output_type": "execute_result"
    }
   ],
   "source": [
    "cups, milk_first"
   ]
  },
  {
   "cell_type": "code",
   "execution_count": 89,
   "id": "c629faa8",
   "metadata": {},
   "outputs": [
    {
     "data": {
      "text/plain": [
       "(321, 0.003115264797507788)"
      ]
     },
     "execution_count": 89,
     "metadata": {},
     "output_type": "execute_result"
    }
   ],
   "source": [
    "attempts = 0\n",
    "while True:\n",
    "    attempts += 1\n",
    "    selection = np.random.choice(cups, size=4, replace=False)\n",
    "    selection.sort()\n",
    "    if np.array_equal(selection, milk_first):\n",
    "        break\n",
    "    attempts\n",
    "attempts_needed = attempts\n",
    "success_rate_experimental = 1/attempts_needed \n",
    "attempts_needed, success_rate_experimental"
   ]
  },
  {
   "cell_type": "markdown",
   "id": "fae25e54",
   "metadata": {},
   "source": [
    "## Problem 2: Normal Distribution"
   ]
  },
  {
   "cell_type": "markdown",
   "id": "eba7e2c7",
   "metadata": {},
   "source": [
    "## Problem 3: t-Tests"
   ]
  },
  {
   "cell_type": "markdown",
   "id": "6a6d923b",
   "metadata": {},
   "source": [
    "## Problem 4: ANOVA"
   ]
  },
  {
   "cell_type": "markdown",
   "id": "38a13367",
   "metadata": {},
   "source": [
    "### References:\n",
    "- A very helpful github guide on `markdown` used throughout for all markdown formatting [here](https://github.com/adam-p/markdown-here/wiki/markdown-cheatsheet)"
   ]
  },
  {
   "cell_type": "markdown",
   "id": "70501361",
   "metadata": {},
   "source": [
    "## END"
   ]
  }
 ],
 "metadata": {
  "kernelspec": {
   "display_name": "Python 3",
   "language": "python",
   "name": "python3"
  },
  "language_info": {
   "codemirror_mode": {
    "name": "ipython",
    "version": 3
   },
   "file_extension": ".py",
   "mimetype": "text/x-python",
   "name": "python",
   "nbconvert_exporter": "python",
   "pygments_lexer": "ipython3",
   "version": "3.12.1"
  }
 },
 "nbformat": 4,
 "nbformat_minor": 5
}
