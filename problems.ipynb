{
 "cells": [
  {
   "cell_type": "markdown",
   "id": "2671c519",
   "metadata": {},
   "source": [
    "# Problems Jupyter Notebook"
   ]
  },
  {
   "cell_type": "markdown",
   "id": "de4c5c1a",
   "metadata": {},
   "source": [
    "## Problem 1: Extending the Lady Tasting Tea\n",
    "![The Lady Tasting Tea](https://upload.wikimedia.org/wikipedia/en/2/2d/The_Lady_Tasting_Tea_-_David_Salsburg.jpg)\n",
    "\n",
    "### Objective: \n",
    "_Let's extend the Lady Tasting Tea experiment as follows. The original experiment has 8 cups: 4 tea-first and 4 milk-first. Suppose we prepare 12 cups: 8 tea-first and 4 milk-first. A participant claims they can tell which was poured first._\n",
    "\n",
    "_Simulate this experiment using `numpy` by randomly shuffling the cups many times and calculating the probability of the participant correctly identifying all cups by chance. Compare your result with the original 8-cup experiment._\n",
    "\n",
    "_In your notebook, explain your simulation process clearly, report and interpret the estimated probability, and discuss whether, based on this probability, you would consider extending or relaxing the p-value threshold compared to the original design._"
   ]
  },
  {
   "cell_type": "code",
   "execution_count": 9,
   "id": "c3a8c4e0",
   "metadata": {},
   "outputs": [],
   "source": [
    "# Import libraries that will be used:\n",
    "import math\n",
    "import itertools\n",
    "import numpy as np\n",
    "import matplotlib.pyplot as plt"
   ]
  },
  {
   "cell_type": "code",
   "execution_count": 10,
   "id": "32c446dc",
   "metadata": {},
   "outputs": [],
   "source": [
    "# Set up out our variables:\n",
    "# Total number of cups\n",
    "num_cups = 12\n",
    "# Number of tea first\n",
    "num_tea = 8\n",
    "# Number of milk first\n",
    "num_milk = 4"
   ]
  },
  {
   "cell_type": "markdown",
   "id": "356ede80",
   "metadata": {},
   "source": [
    "Using math.comb(n, k) to calculate combinations.\n",
    "Interstingly, as we have by guessing the number of milk first cups correctly, we automatically know the number of tea first cups correctly as well. Therefore we only need to calculate one side of the combination. It would not make sense to select the number of tea first cups, however we will explore the alternative to see if it makes a difference.\n"
   ]
  },
  {
   "cell_type": "code",
   "execution_count": 11,
   "id": "a786cf71",
   "metadata": {},
   "outputs": [
    {
     "data": {
      "text/plain": [
       "495"
      ]
     },
     "execution_count": 11,
     "metadata": {},
     "output_type": "execute_result"
    }
   ],
   "source": [
    "# math.comb(n, k) calculates the number of combinations of n items taken k at a time.\n",
    "ways = math.comb(num_cups, num_milk)\n",
    "ways\n"
   ]
  },
  {
   "cell_type": "markdown",
   "id": "49192c9a",
   "metadata": {},
   "source": [
    "Therefore above one can see that the total number of ways to correctly guess which cups had milk added first is 495. An increase from the original experiment from Fisher of 70.\n",
    "Using a labelling and placeholder system comparing to the original problem we see that the number of placeholders does not change just the number of labelled cups:\n",
    "\n",
    "Original problem (8 cups of tea 4 milk first 4 tea first)\n",
    "Cup labels: `1` `2` `3` `4` `5` `6` `7` `8`\n",
    "Placeholders: `_` `_` `_` `_`\n",
    "\n",
    "New problem (12 cups of tea 4 milk first 8 tea first)\n",
    "Cup labels: `1` `2` `3` `4` `5` `6` `7` `8` `9` `10` `11` `12`\n",
    "Placeholders: `_` `_` `_` `_`"
   ]
  },
  {
   "cell_type": "code",
   "execution_count": 12,
   "id": "f499549b",
   "metadata": {},
   "outputs": [
    {
     "data": {
      "text/plain": [
       "11880"
      ]
     },
     "execution_count": 12,
     "metadata": {},
     "output_type": "execute_result"
    }
   ],
   "source": [
    "# If the order of the cups mattered it would result in:\n",
    "order_ways = 12*11*10*9\n",
    "order_ways"
   ]
  },
  {
   "cell_type": "markdown",
   "id": "3061880c",
   "metadata": {},
   "source": [
    "We can see in the above that as we increase the number of cups if selecting from 12 cups in 4 places and the order is critical that there is a 1/11880 chance of it being correct. However in this situation we do not care about the order therefore we can disregard ordering."
   ]
  },
  {
   "cell_type": "code",
   "execution_count": null,
   "id": "3f26777a",
   "metadata": {},
   "outputs": [
    {
     "data": {
      "text/plain": [
       "24"
      ]
     },
     "execution_count": 15,
     "metadata": {},
     "output_type": "execute_result"
    }
   ],
   "source": [
    "# Ways to shuffle our placeholders:\n",
    "shuffles = 4*3*2*1\n",
    "shuffles\n"
   ]
  },
  {
   "cell_type": "code",
   "execution_count": null,
   "id": "3a11a0a7",
   "metadata": {},
   "outputs": [
    {
     "data": {
      "text/plain": [
       "495"
      ]
     },
     "execution_count": 16,
     "metadata": {},
     "output_type": "execute_result"
    }
   ],
   "source": [
    "# Therfore the number of combinations is:\n",
    "num_combs= order_ways // shuffles\n",
    "num_combs"
   ]
  },
  {
   "cell_type": "code",
   "execution_count": null,
   "id": "85cdfa3a",
   "metadata": {},
   "outputs": [],
   "source": []
  },
  {
   "cell_type": "markdown",
   "id": "54411f07",
   "metadata": {},
   "source": [
    "Therefore one can see that the num_combs = ways"
   ]
  },
  {
   "cell_type": "markdown",
   "id": "fae25e54",
   "metadata": {},
   "source": [
    "## Problem 2: Normal Distribution"
   ]
  },
  {
   "cell_type": "markdown",
   "id": "eba7e2c7",
   "metadata": {},
   "source": [
    "## Problem 3: t-Tests"
   ]
  },
  {
   "cell_type": "markdown",
   "id": "6a6d923b",
   "metadata": {},
   "source": [
    "## Problem 4: ANOVA"
   ]
  },
  {
   "cell_type": "markdown",
   "id": "38a13367",
   "metadata": {},
   "source": [
    "### References:\n",
    "- A very helpful github guide on `markdown` used throughout for all markdown formatting [here](https://github.com/adam-p/markdown-here/wiki/markdown-cheatsheet)"
   ]
  },
  {
   "cell_type": "markdown",
   "id": "70501361",
   "metadata": {},
   "source": [
    "## END"
   ]
  }
 ],
 "metadata": {
  "kernelspec": {
   "display_name": "Python 3",
   "language": "python",
   "name": "python3"
  },
  "language_info": {
   "codemirror_mode": {
    "name": "ipython",
    "version": 3
   },
   "file_extension": ".py",
   "mimetype": "text/x-python",
   "name": "python",
   "nbconvert_exporter": "python",
   "pygments_lexer": "ipython3",
   "version": "3.12.1"
  }
 },
 "nbformat": 4,
 "nbformat_minor": 5
}
